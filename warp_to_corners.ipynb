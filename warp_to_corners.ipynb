{
 "cells": [
  {
   "cell_type": "code",
   "execution_count": 1,
   "metadata": {},
   "outputs": [],
   "source": [
    "import numpy as np\n",
    "import cv2\n",
    "import glob, os"
   ]
  },
  {
   "cell_type": "code",
   "execution_count": 2,
   "metadata": {},
   "outputs": [],
   "source": [
    "# Basic corner detection\n",
    "def detect_corners(img, number_of_corners: int, min_distance_beteen_corners: int):\n",
    "    gray = cv2.cvtColor(img, cv2.COLOR_BGR2GRAY)\n",
    "    corners = cv2.goodFeaturesToTrack(gray, number_of_corners, 0.01, min_distance_beteen_corners)\n",
    "    corners = np.int0([corner[0] for corner in corners])\n",
    "    return corners\n",
    "\n",
    "\n",
    "# Corner detection on saturation and value thresholds\n",
    "def saNva_corners(img, number_of_corners: int, min_distance_beteen_corners: int):\n",
    "    # Splitting HSV channels\n",
    "    h, s, v = cv2.split(cv2.cvtColor(img, cv2.COLOR_BGR2HSV))\n",
    "\n",
    "    # Blurring and thresholding saturation and value channels\n",
    "    blur_s = cv2.GaussianBlur(s, (5,5), 0)\n",
    "    _, th_s = cv2.threshold(blur_s, 50, 255, cv2.THRESH_BINARY_INV)\n",
    "    blur_v = cv2.GaussianBlur(v, (31,31), 0)\n",
    "    _, th_v = cv2.threshold(blur_v, 200, 255, cv2.THRESH_BINARY)\n",
    "\n",
    "    # Combined threshold\n",
    "    combined = cv2.addWeighted(th_s, .5, th_v, .5, 0)\n",
    "    _, th = cv2.threshold(combined, 200, 255, cv2.THRESH_BINARY)\n",
    "\n",
    "    # Corner detection\n",
    "    corners = cv2.goodFeaturesToTrack(th, number_of_corners, 0.01, min_distance_beteen_corners, blockSize=25)\n",
    "    if corners is not None:\n",
    "        return np.int0([corner[0] for corner in corners])\n",
    "    return np.int0([])\n",
    "\n",
    "# Sort the found corners so that the first one is close to the top left, second to bottom left, third to bottom right, last to top right\n",
    "def sort_corners(corner_list, shape):\n",
    "    # reformatting corners as list of tuples\n",
    "    corners = []\n",
    "    for corn in corner_list:\n",
    "        corners.append((corn[0], corn[1]))\n",
    "    sorted = []\n",
    "    for imgc in [(0, 0), (shape[0], 0), (shape[0], shape[1]), (0, shape[1])]:\n",
    "        dists = {corn: (imgc[1] - corn[0])**2 + (imgc[0] - corn[1])**2 \n",
    "                 for corn in corners}\n",
    "        sorted.append(min(dists, key=dists.get))\n",
    "        corners.remove(sorted[-1])\n",
    "    return sorted\n",
    "\n",
    "# Warp picture from the 4 selected corners\n",
    "def warp_pic(img, corners):\n",
    "    shape = img.shape\n",
    "    frame = (int(shape[0]*.05)+5, int(shape[1]*.05)+5)\n",
    "    output_corners = [(frame[1], frame[0]), (frame[1], shape[0]-frame[0]), (shape[1]-frame[1], shape[0]-frame[0]), (shape[1]-frame[1], frame[0])]\n",
    "    M = cv2.getPerspectiveTransform(np.float32(corners), np.float32(output_corners))\n",
    "    return cv2.warpPerspective(img,M,(shape[1], shape[0]),flags=cv2.INTER_LINEAR)\n",
    "\n",
    "# Corner drawing for testing purposes\n",
    "def draw_corners(corners, selected, img):\n",
    "    img = img.copy()\n",
    "    for corner in corners:\n",
    "        x, y = corner.ravel()\n",
    "        if (x, y) in selected:\n",
    "            cv2.circle(img, (x, y), 10, (0, 128, 255), -1)    \n",
    "        else:\n",
    "            cv2.circle(img, (x, y), 5, (255, 0, 0), -1)\n",
    "    \n",
    "    cv2.imshow('Frame', img)\n",
    "    cv2.waitKey(0)\n",
    "    cv2.destroyAllWindows()\n"
   ]
  },
  {
   "cell_type": "code",
   "execution_count": 3,
   "metadata": {},
   "outputs": [
    {
     "name": "stdout",
     "output_type": "stream",
     "text": [
      "[[ 79 527]\n",
      " [712 379]\n",
      " [ 82 201]\n",
      " [151 437]\n",
      " [497 208]\n",
      " [ 55 448]\n",
      " [460 399]\n",
      " [366 180]\n",
      " [435 148]\n",
      " [446  64]\n",
      " [666 117]\n",
      " [223  96]\n",
      " [593  91]\n",
      " [107 359]\n",
      " [318  82]\n",
      " [611 239]\n",
      " [286 456]\n",
      " [290 244]\n",
      " [172 156]\n",
      " [575 174]\n",
      " [691 449]\n",
      " [423 222]\n",
      " [ 57 595]\n",
      " [741 208]\n",
      " [871 139]\n",
      " [449 314]\n",
      " [ 28 696]\n",
      " [ 42 262]\n",
      " [849 294]\n",
      " [800 136]\n",
      " [572 497]\n",
      " [325 324]\n",
      " [647 509]\n",
      " [789 521]\n",
      " [254 161]\n",
      " [169 590]\n",
      " [649  49]\n",
      " [583  21]\n",
      " [520  71]\n",
      " [112  98]\n",
      " [123 644]\n",
      " [530 304]\n",
      " [499 600]\n",
      " [399 614]\n",
      " [213 523]\n",
      " [572 593]\n",
      " [791 344]\n",
      " [228 634]\n",
      " [663 189]\n",
      " [379  41]\n",
      " [796 445]\n",
      " [638 618]\n",
      " [367 264]\n",
      " [725 575]\n",
      " [183 688]\n",
      " [289 676]\n",
      " [ 14 391]\n",
      " [494   6]\n",
      " [321 613]\n",
      " [884 232]]\n",
      "[(112, 98), (28, 696), (789, 521), (871, 139)]\n"
     ]
    },
    {
     "data": {
      "text/plain": [
       "True"
      ]
     },
     "execution_count": 3,
     "metadata": {},
     "output_type": "execute_result"
    }
   ],
   "source": [
    "# Testing on one picture\n",
    "\n",
    "test_img_path = \"./data_1/color_cropped/IMG_6349_2.png\"\n",
    "img1 = cv2.imread(test_img_path)\n",
    "corners_found = saNva_corners(img1, 100, 70)\n",
    "print(corners_found)\n",
    "warp_points = sort_corners(corners_found, img1.shape)\n",
    "print(warp_points)\n",
    "draw_corners(corners_found, warp_points, img1)\n",
    "\n",
    "warped_pic = warp_pic(img1, warp_points)\n",
    "\n",
    "cv2.imwrite(\"./test_warp.png\", warped_pic)\n"
   ]
  },
  {
   "cell_type": "code",
   "execution_count": 65,
   "metadata": {},
   "outputs": [],
   "source": [
    "# Basic crop filter, simply avoiding very small crops, could be replaced with an algorithm that quickly checks if a crop has any text\n",
    "def pic_filter(img):\n",
    "    if (img.shape[0] > 150 or img.shape[1] > 150) and img.shape[0]*img.shape[1] > 10000:\n",
    "        return True\n",
    "    return False"
   ]
  },
  {
   "cell_type": "code",
   "execution_count": 75,
   "metadata": {},
   "outputs": [
    {
     "name": "stdout",
     "output_type": "stream",
     "text": [
      "./data_1/color_cropped/warped\n",
      "1 2 3 4 5 6 7 8 9 10 11 12 13 14 15 16 17 18 19 20 21 22 23 24 25 26 27 28 29 30 31 32 33 34 35 36 37 38 39 40 41 42 43 44 45 46 47 48 49 50 51 52 53 54 55 56 57 58 59 60 61 62 63 64 65 66 67 68 69 70 71 72 73 74 75 76 77 78 79 80 81 82 83 84 85 86 87 88 89 90 91 92 93 94 95 96 97 98 99 100 101 102 103 104 105 106 107 108 109 110 111 112 113 114 115 116 117 118 119 120 121 122 123 124 125 126 127 128 129 130 131 132 133 134 135 136 137 138 139 140 141 142 143 144 145 146 147 148 149 150 151 152 153 154 155 156 157 158 159 160 161 162 163 164 165 166 167 168 169 170 171 172 173 174 175 176 177 178 179 180 181 182 183 184 185 186 187 188 189 190 191 192 193 194 195 196 197 198 199 200 201 202 203 204 205 206 207 208 209 210 211 212 213 214 215 216 217 218 219 220 221 222 223 224 225 226 227 228 229 230 231 ./data_1/color_cropped/ done.\n",
      "./data_2/color_cropped/warped\n",
      "1 2 3 4 5 6 7 8 9 10 11 12 13 14 15 16 17 18 19 20 21 22 23 24 25 26 27 28 29 30 31 32 33 34 35 36 37 38 39 40 41 42 43 44 45 46 47 48 49 50 51 52 53 54 55 56 57 58 59 60 61 62 63 64 65 66 67 68 69 70 71 72 73 74 75 76 77 78 79 80 81 82 83 84 85 86 87 88 89 90 91 92 93 94 95 96 97 98 99 100 101 102 103 104 105 106 107 108 109 110 111 112 113 114 115 116 117 118 119 120 121 122 123 124 125 126 127 128 129 130 131 132 133 134 135 136 137 138 139 140 141 142 143 144 145 146 ./data_2/color_cropped/ done.\n"
     ]
    }
   ],
   "source": [
    "cropped1_dir = './data_1/color_cropped/'\n",
    "cropped2_dir = './data_2/color_cropped/'\n",
    "\n",
    "\n",
    "for data_dir in [cropped1_dir, cropped2_dir]:\n",
    "    warped_dir = data_dir + 'warped'\n",
    "    print(warped_dir)\n",
    "    if not os.path.exists(warped_dir):\n",
    "        os.makedirs(warped_dir)\n",
    "\n",
    "    # Warping all pictures in the given directories\n",
    "    for dir_path in glob.glob(data_dir):\n",
    "        img_count = 0\n",
    "        for img_path in glob.glob(os.path.join(dir_path, '*.png')):\n",
    "            img_name = img_path.split('\\\\')[1][:-4]\n",
    "            img = cv2.imread(img_path)\n",
    "            if not pic_filter(img):\n",
    "                continue\n",
    "            corners_found = saNva_corners(img, 100, 70)\n",
    "            if len(corners_found) < 4:\n",
    "                # If the openCV algorithm did not find any corners, color and lightning conditions are probably out of range for the thresholds\n",
    "                continue\n",
    "            trans_points = sort_corners(corners_found, img.shape)\n",
    "            warped_pic = warp_pic(img, trans_points)\n",
    "            cv2.imwrite(warped_dir + '/' + img_name + f'.png', warped_pic)\n",
    "            img_count+=1\n",
    "            print(f'{img_count}', end=\" \", flush=True)\n",
    "        print(data_dir, \"done.\")"
   ]
  }
 ],
 "metadata": {
  "kernelspec": {
   "display_name": "Python 3.9.13 ('.venv': venv)",
   "language": "python",
   "name": "python3"
  },
  "language_info": {
   "codemirror_mode": {
    "name": "ipython",
    "version": 3
   },
   "file_extension": ".py",
   "mimetype": "text/x-python",
   "name": "python",
   "nbconvert_exporter": "python",
   "pygments_lexer": "ipython3",
   "version": "3.9.13"
  },
  "orig_nbformat": 4,
  "vscode": {
   "interpreter": {
    "hash": "9a35a8dfbd92354451cfb9876229f1bc08a83552146870c177b375b61c8c5537"
   }
  }
 },
 "nbformat": 4,
 "nbformat_minor": 2
}
